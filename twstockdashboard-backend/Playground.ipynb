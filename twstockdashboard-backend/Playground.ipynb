{
 "cells": [
  {
   "cell_type": "code",
   "execution_count": 2,
   "metadata": {
    "dotnet_interactive": {
     "language": "csharp"
    },
    "polyglot_notebook": {
     "kernelName": "csharp"
    }
   },
   "outputs": [
    {
     "data": {
      "text/html": [
       "<div><div></div><div></div><div><strong>Installed Packages</strong><ul><li><span>Shioaji, 1.1.8</span></li></ul></div></div>"
      ]
     },
     "metadata": {},
     "output_type": "display_data"
    }
   ],
   "source": [
    "#r \"nuget: Shioaji, 1.1.8\""
   ]
  },
  {
   "cell_type": "code",
   "execution_count": 3,
   "metadata": {
    "dotnet_interactive": {
     "language": "csharp"
    },
    "polyglot_notebook": {
     "kernelName": "csharp"
    }
   },
   "outputs": [
    {
     "name": "stdout",
     "output_type": "stream",
     "text": [
      "Connecting as shioaji@sinopac on 210.59.255.161:80...\r\n"
     ]
    }
   ],
   "source": [
    "using System.IO;\n",
    "using Sinopac.Shioaji;\n",
    "using System.Text.Json;\n",
    "Shioaji _api = new Shioaji();\n",
    "\n",
    "string jsonString = File.ReadAllText(@\"D:\\Sinopac.json\");\n",
    "JsonElement root = JsonDocument.Parse(jsonString).RootElement;\n",
    "_api.Login(root.GetProperty(\"API_Key\").GetString(), root.GetProperty(\"Secret_Key\").GetString());"
   ]
  },
  {
   "cell_type": "code",
   "execution_count": 4,
   "metadata": {
    "dotnet_interactive": {
     "language": "csharp"
    },
    "polyglot_notebook": {
     "kernelName": "csharp"
    }
   },
   "outputs": [],
   "source": [
    "private string GetValidDate(string? AssignDate, bool? Fut)\n",
    "{\n",
    "    // 週間休市  只好人工指定前一交易日\n",
    "    // Kbar用的話，盤後就要T+1，若週五盤後則要T+3，週六凌晨則是T+2，\n",
    "    if(AssignDate != null) return AssignDate;\n",
    "    else if (Fut == true)\n",
    "    {\n",
    "        DateTime date = DateTime.Now.DayOfWeek switch\n",
    "        {\n",
    "            DayOfWeek.Saturday => DateTime.Now.AddDays(2),\n",
    "            DayOfWeek.Sunday => DateTime.Now.AddDays(1),\n",
    "            DayOfWeek.Tuesday or DayOfWeek.Wednesday or DayOfWeek.Thursday => (DateTime.Now.Hour >= 15) ? DateTime.Now.AddDays(1): DateTime.Now,\n",
    "            DayOfWeek.Friday => (DateTime.Now.Hour >= 15) ? DateTime.Now.AddDays(3): DateTime.Now,\n",
    "            _ => DateTime.Now\n",
    "        };\n",
    "        return date.ToString(\"yyyy-MM-dd\");        \n",
    "    }\n",
    "    else\n",
    "    {\n",
    "        DateTime date = DateTime.Now.DayOfWeek switch\n",
    "        {\n",
    "            DayOfWeek.Saturday => DateTime.Now.AddDays(-1),\n",
    "            DayOfWeek.Sunday => DateTime.Now.AddDays(-2),\n",
    "            DayOfWeek.Monday => (DateTime.Now.Hour < 9) ? DateTime.Now.AddDays(-3) : DateTime.Now ,\n",
    "            DayOfWeek.Tuesday => (DateTime.Now.Hour < 9) ? DateTime.Now.AddDays(-1) : DateTime.Now ,\n",
    "            DayOfWeek.Wednesday => (DateTime.Now.Hour < 9) ? DateTime.Now.AddDays(-1) : DateTime.Now ,\n",
    "            DayOfWeek.Thursday => (DateTime.Now.Hour < 9) ? DateTime.Now.AddDays(-1) : DateTime.Now ,\n",
    "            DayOfWeek.Friday => (DateTime.Now.Hour < 9) ? DateTime.Now.AddDays(-1) : DateTime.Now ,\n",
    "            _ => DateTime.Now\n",
    "        };\n",
    "        return date.ToString(\"yyyy-MM-dd\");        \n",
    "    }\n",
    "}\n",
    "\n",
    "private DateTime GetCallbackEndTime()\n",
    "{\n",
    "    // 是凌晨就05:00停，若盤中就13:45停止，13:45後(常理來說15:00才會開程式)就隔天05:00停止\n",
    "    bool preMktTime  = DateTime.Now.TimeOfDay < new TimeSpan( 5,  0, 0);\n",
    "    bool onMktTime   = DateTime.Now.TimeOfDay > new TimeSpan (8, 45, 0) && DateTime.Now.TimeOfDay < new TimeSpan(13, 45, 0);\n",
    "    DateTime end = preMktTime ?\n",
    "                    DateTime.Now.Date.AddHours(5) :\n",
    "                    (onMktTime ? DateTime.Now.Date.AddHours(13.75) : DateTime.Now.Date.AddHours(29));\n",
    "    return end;\n",
    "}"
   ]
  },
  {
   "cell_type": "markdown",
   "metadata": {},
   "source": [
    "##### 上面三個無腦按"
   ]
  },
  {
   "cell_type": "code",
   "execution_count": null,
   "metadata": {
    "dotnet_interactive": {
     "language": "csharp"
    },
    "polyglot_notebook": {
     "kernelName": "csharp"
    }
   },
   "outputs": [],
   "source": [
    "public Dictionary<string, List<object>> NavBar()\n",
    "{\n",
    "    /* 建容器 [key: string] : any[]\n",
    "        * 前三個裝\"指數名稱\":[指數、漲跌點、漲跌幅]\n",
    "        * 後兩個裝裝\"項目名稱\":[值1、值2]\n",
    "        */\n",
    "    Dictionary<string, List<object>> retContainer = new Dictionary<string, List<object>>();\n",
    "\n",
    "    SJList _IContract = _api.Snapshots(new List<IContract>() {\n",
    "        _api.Contracts.Futures[\"TXF\"][\"TXFR1\"],\n",
    "        _api.Contracts.Indexs[\"TSE\"][\"001\"],\n",
    "        _api.Contracts.Indexs[\"OTC\"][\"101\"]\n",
    "        });\n",
    "    foreach (var i in _IContract)\n",
    "    {\n",
    "        List<object> _tempIContracts = new List<object>();\n",
    "        _tempIContracts.Add(i.close);\n",
    "        _tempIContracts.Add(i.change_price);\n",
    "        _tempIContracts.Add(i.change_rate);\n",
    "        retContainer.Add(i.exchange, _tempIContracts);\n",
    "    }\n",
    "\n",
    "    var _Margin = _api.Margin();\n",
    "    List<object> _tempMargins = new List<object>();\n",
    "    _tempMargins.Add(_Margin.equity_amount);\n",
    "    _tempMargins.Add(_Margin.available_margin);\n",
    "    retContainer.Add(\"Margin\", _tempMargins);\n",
    "\n",
    "    SJList _ListAccounts = _api.ListAccounts();\n",
    "    List<object> _tempListAccounts = new List<object>();\n",
    "    _tempListAccounts.Add(_ListAccounts[0].account_id.Substring(4, 3));\n",
    "    _tempListAccounts.Add(_ListAccounts[1].account_id.Substring(4, 3));\n",
    "    retContainer.Add(\"Acct\", _tempListAccounts);\n",
    "\n",
    "    return retContainer;\n",
    "}\n",
    "\n",
    "NavBar()"
   ]
  },
  {
   "cell_type": "code",
   "execution_count": null,
   "metadata": {
    "dotnet_interactive": {
     "language": "csharp"
    },
    "polyglot_notebook": {
     "kernelName": "csharp"
    }
   },
   "outputs": [],
   "source": [
    "public Dictionary<DateTime, List<double>> ApexCharts(int LastCount)\n",
    "{\n",
    "    /* 建容器 [key: string] : number[] 裝time stamp : [open, high, low, close]\n",
    "     *\n",
    "     */\n",
    "    string bgn = \"\";\n",
    "    string end = \"\";\n",
    "    // (週二or週三or週四) && (15:00~23:59) ☛ 迄需+1，起就當日\n",
    "    // (週五) && (15:00~23:59) ☛ 迄需T+3，起就當日\n",
    "    // (週六) && (00:00~ 04:59) ☛ 迄需T+2，起就T-1\n",
    "    // else 起迄都當日\n",
    "    bool cond1 = DateTime.Now.DayOfWeek == DayOfWeek.Tuesday || DateTime.Now.DayOfWeek == DayOfWeek.Wednesday || DateTime.Now.DayOfWeek == DayOfWeek.Thursday;\n",
    "    bool cond2 = DateTime.Now.TimeOfDay >= new TimeSpan(15, 0, 0) && DateTime.Now.TimeOfDay <= new TimeSpan(23, 59, 59);\n",
    "    bool cond3 = DateTime.Now.DayOfWeek == DayOfWeek.Friday && DateTime.Now.TimeOfDay >= new TimeSpan(15, 0, 0);\n",
    "    bool cond4 = DateTime.Now.DayOfWeek == DayOfWeek.Saturday && DateTime.Now.TimeOfDay <= new TimeSpan(23, 59, 59);\n",
    "    if(cond1 && cond2){\n",
    "        end = DateTime.Now.AddDays(+1).ToString(\"yyyy-MM-dd\");\n",
    "        bgn = DateTime.Now.ToString(\"yyyy-MM-dd\");\n",
    "    }\n",
    "    else if(cond3){\n",
    "        end = DateTime.Now.AddDays(+3).ToString(\"yyyy-MM-dd\");\n",
    "        bgn = DateTime.Now.ToString(\"yyyy-MM-dd\");\n",
    "    }\n",
    "    else if(cond4){\n",
    "        end = DateTime.Now.AddDays(+2).ToString(\"yyyy-MM-dd\");\n",
    "        bgn = DateTime.Now.AddDays(-1).ToString(\"yyyy-MM-dd\");\n",
    "    }\n",
    "    else{\n",
    "        end = DateTime.Now.ToString(\"yyyy-MM-dd\");\n",
    "        bgn = end;\n",
    "    }\n",
    "\n",
    "    Dictionary<DateTime, List<double>> retKbarsLastCount = new Dictionary<DateTime, List<double>>();\n",
    "    object _Kbars = _api.Kbars(_api.Contracts.Futures[\"TXF\"][\"TXFR1\"], bgn, end);\n",
    "    var res = _Kbars.ToDict();\n",
    "    long[] ts = res[\"ts\"].ToArray();\n",
    "    DateTime[] dateTimes = Array.ConvertAll(ts, x => new DateTime(1970, 1, 1, 0, 0, 0, DateTimeKind.Utc).AddTicks(x / 100));\n",
    "    for (int i = 0; i < dateTimes.Length; i++)\n",
    "    {\n",
    "        List<double> _tempKbars = new List<double>();\n",
    "        _tempKbars.Add(res[\"Open\"][i]);\n",
    "        _tempKbars.Add(res[\"High\"][i]);\n",
    "        _tempKbars.Add(res[\"Low\"][i]);\n",
    "        _tempKbars.Add(res[\"Close\"][i]);\n",
    "        retKbarsLastCount.Add(dateTimes[i], _tempKbars);\n",
    "    }\n",
    "    //若 00:00 ~ 00:59 會取不足60筆\n",
    "    return retKbarsLastCount.TakeLast(LastCount).ToDictionary(x => x.Key, x => x.Value);\n",
    "}\n",
    "\n",
    "ApexCharts(60)"
   ]
  },
  {
   "cell_type": "code",
   "execution_count": null,
   "metadata": {
    "dotnet_interactive": {
     "language": "csharp"
    },
    "polyglot_notebook": {
     "kernelName": "csharp"
    }
   },
   "outputs": [],
   "source": [
    "public Dictionary<string, double> Ticks(int LastCount)\n",
    "{\n",
    "    var _TicksQuery = _api.Ticks(_api.Contracts.Futures[\"TXF\"][\"TXFR1\"], GetValidDate(null, true), TicksQueryType.LastCount, last_cnt: 100);\n",
    "    Dictionary<string, double> _ret = new Dictionary<string, double>();\n",
    "    for (int i = 0; i < _TicksQuery.ts.ToArray().Length; i++)\n",
    "    {\n",
    "        try { _ret.Add(new DateTime(1970, 1, 1, 0, 0, 0, DateTimeKind.Utc).AddTicks(_TicksQuery.ts[i] / 100).ToString(\"HH:mm:ss\"), _TicksQuery.close[i]); }\n",
    "        catch (Exception ex) { continue; }\n",
    "    }\n",
    "    return _ret.OrderByDescending(x => x.Key).Take(LastCount).ToDictionary(x => x.Key, x => x.Value);\n",
    "}"
   ]
  },
  {
   "cell_type": "code",
   "execution_count": null,
   "metadata": {
    "dotnet_interactive": {
     "language": "csharp"
    },
    "polyglot_notebook": {
     "kernelName": "csharp"
    }
   },
   "outputs": [],
   "source": [
    "public Dictionary<string, Dictionary<string, double>> Options(string OptionWeek, string yyyyMM, string mode)\n",
    "{\n",
    "    double close = _api.Snapshots(new List<IContract>() { _api.Contracts.Futures[\"TXF\"][\"TXFR1\"] })[0].close;\n",
    "    var OPIContract = new List<IContract>();\n",
    "    if (mode == \"4\")\n",
    "    {\n",
    "        // BC:[][1] - SC:[][0] + BP:[][1], SP:[][0]\n",
    "        var strikeLower = Math.Floor(close / 50) * 50;\n",
    "        var strikeUpper = strikeLower + 100;\n",
    "        OPIContract.Add(_api.Contracts.Options[OptionWeek][OptionWeek + yyyyMM + strikeUpper + \"C\"]);\n",
    "        OPIContract.Add(_api.Contracts.Options[OptionWeek][OptionWeek + yyyyMM + strikeLower + \"C\"]);\n",
    "        OPIContract.Add(_api.Contracts.Options[OptionWeek][OptionWeek + yyyyMM + strikeUpper + \"P\"]);\n",
    "        OPIContract.Add(_api.Contracts.Options[OptionWeek][OptionWeek + yyyyMM + strikeLower + \"P\"]);\n",
    "    }\n",
    "    else if (mode == \"3\")\n",
    "    {\n",
    "        // SCSP + BP + MTX\n",
    "        var strikeUpper = Math.Floor(close / 50) * 50 + 100;\n",
    "        var strikeLower = strikeUpper - 200;\n",
    "        var strikeBottom = strikeLower - 200;\n",
    "        OPIContract.Add(_api.Contracts.Options[OptionWeek][OptionWeek + yyyyMM + strikeUpper + \"C\"]);\n",
    "        OPIContract.Add(_api.Contracts.Options[OptionWeek][OptionWeek + yyyyMM + strikeLower + \"P\"]);\n",
    "        OPIContract.Add(_api.Contracts.Options[OptionWeek][OptionWeek + yyyyMM + strikeBottom + \"P\"]);\n",
    "    }\n",
    "    else if (mode == \"9\")\n",
    "    {\n",
    "        var strikePar = Math.Floor(close / 50) * 50;\n",
    "        var strike_300 = strikePar - 300;\n",
    "        var strike_200 = strikePar - 200;\n",
    "        var strike_100 = strikePar - 100;\n",
    "        var strike100 = strikePar + 100;\n",
    "        var strike200 = strikePar + 200;\n",
    "        OPIContract.Add(_api.Contracts.Options[OptionWeek][OptionWeek + yyyyMM + strike_300 + \"P\"]);\n",
    "        OPIContract.Add(_api.Contracts.Options[OptionWeek][OptionWeek + yyyyMM + strike_200 + \"C\"]);\n",
    "        OPIContract.Add(_api.Contracts.Options[OptionWeek][OptionWeek + yyyyMM + strike_200 + \"P\"]);\n",
    "        OPIContract.Add(_api.Contracts.Options[OptionWeek][OptionWeek + yyyyMM + strike_100 + \"C\"]);\n",
    "        OPIContract.Add(_api.Contracts.Options[OptionWeek][OptionWeek + yyyyMM + strike_100 + \"P\"]);\n",
    "        OPIContract.Add(_api.Contracts.Options[OptionWeek][OptionWeek + yyyyMM + strikePar + \"C\"]);\n",
    "        OPIContract.Add(_api.Contracts.Options[OptionWeek][OptionWeek + yyyyMM + strikePar + \"P\"]);\n",
    "        OPIContract.Add(_api.Contracts.Options[OptionWeek][OptionWeek + yyyyMM + strike100 + \"C\"]);\n",
    "        OPIContract.Add(_api.Contracts.Options[OptionWeek][OptionWeek + yyyyMM + strike100 + \"P\"]);\n",
    "        OPIContract.Add(_api.Contracts.Options[OptionWeek][OptionWeek + yyyyMM + strike200 + \"C\"]);\n",
    "        OPIContract.Add(_api.Contracts.Options[OptionWeek][OptionWeek + yyyyMM + strike200 + \"P\"]);\n",
    "    }\n",
    "\n",
    "    var ret = _api.Snapshots(OPIContract);\n",
    "    var _ret = new Dictionary<string, Dictionary<string, double>>();\n",
    "    foreach (var item in ret)\n",
    "    {\n",
    "        var code = item.code.Substring(3, 5) + (item.code[8] < 'L' ? \"C\" : \"P\");\n",
    "        if (!_ret.ContainsKey(code)) _ret[code] = new Dictionary<string, double>();\n",
    "        _ret[code][\"buy_price\"] = item.buy_price;\n",
    "        _ret[code][\"sell_price\"] = item.sell_price;\n",
    "    }\n",
    "    return _ret;\n",
    "}\n",
    "Options(\"TX1\", \"202403\", \"9\")"
   ]
  },
  {
   "cell_type": "code",
   "execution_count": null,
   "metadata": {
    "dotnet_interactive": {
     "language": "csharp"
    },
    "polyglot_notebook": {
     "kernelName": "csharp"
    }
   },
   "outputs": [],
   "source": [
    "public Dictionary<string, Dictionary<string, object>> GetPositions()\n",
    "{\n",
    "    var res = _api.ListPositions(_api.FutureAccount);\n",
    "\n",
    "    var _ret = new Dictionary<string, Dictionary<string, object>>();\n",
    "    for (int i = 0; i < res.Count; i++)\n",
    "    {\n",
    "        {\n",
    "            var code = res[i].code;\n",
    "            _ret[code] = new Dictionary<string, object>();\n",
    "            _ret[code][\"direction\"] = res[i].direction;\n",
    "            _ret[code][\"quantity\"] = res[i].quantity;\n",
    "            _ret[code][\"price\"] = res[i].price;\n",
    "            _ret[code][\"last_price\"] = res[i].last_price;\n",
    "            _ret[code][\"pnl\"] = res[i].pnl;\n",
    "        }\n",
    "    }\n",
    "    return _ret;\n",
    "}\n",
    "GetPositions()"
   ]
  },
  {
   "cell_type": "code",
   "execution_count": null,
   "metadata": {
    "dotnet_interactive": {
     "language": "csharp"
    },
    "polyglot_notebook": {
     "kernelName": "csharp"
    }
   },
   "outputs": [],
   "source": [
    "public Dictionary<string, Dictionary<string, object>> StocksTable(string mode)\n",
    "{\n",
    "    List<string> PctRank = _api.Scanners(scannerType: ScannerType.ChangePercentRank, date: GetValidDate(null, null), count: 75)\n",
    "    .Select(x => (string)x.code).ToList();\n",
    "    List<string> AmtRank = _api.Scanners(scannerType: ScannerType.AmountRank, date: GetValidDate(null, null), count: 75)\n",
    "    .Select(x => (string)x.code).ToList();\n",
    "    var IntersectRank = PctRank.Intersect(AmtRank).ToList();\n",
    "\n",
    "    List<string> TW30 = new List<string> {\n",
    "        \"2330\", \"2454\", \"2317\", \"2382\", \"2412\", \"2881\", \"2308\", \"6505\", \"2882\", \"2303\",\n",
    "        \"3711\", \"2891\", \"2886\", \"1303\", \"1301\", \"1216\", \"2002\", \"2884\", \"6669\", \"5880\",\n",
    "        \"3045\", \"2892\", \"2207\", \"2885\", \"3008\", \"3231\", \"1326\", \"2357\", \"2603\", \"3034\",\n",
    "    };\n",
    "    List<string> Watchlist = IntersectRank.Except(TW30).ToList();\n",
    "\n",
    "    var _AmtRank = _api.Scanners(scannerType: ScannerType.AmountRank, date: GetValidDate(null, null), count: 75);\n",
    "    var _ret = new Dictionary<string, Dictionary<string, object>>();\n",
    "    for (int i = 0; i < _AmtRank.Count; i++)\n",
    "    {\n",
    "        if ((mode == \"TW30\" ? TW30 : Watchlist).Contains(_AmtRank[i].code))\n",
    "        {\n",
    "            var name = _AmtRank[i].name;\n",
    "            _ret[name] = new Dictionary<string, object>();\n",
    "            _ret[name][\"code\"] = _AmtRank[i].code;\n",
    "            _ret[name][\"close\"] = _AmtRank[i].close;\n",
    "            _ret[name][\"price_range\"] = _AmtRank[i].price_range;\n",
    "            _ret[name][\"tick_type\"] = _AmtRank[i].tick_type;\n",
    "            _ret[name][\"change_price\"] = _AmtRank[i].change_price;\n",
    "            _ret[name][\"average_price\"] = _AmtRank[i].average_price;\n",
    "            _ret[name][\"rank_value\"] = Math.Round(_AmtRank[i].rank_value / 100_000_000, 2);\n",
    "            _ret[name][\"buy_price\"] = _AmtRank[i].buy_price;\n",
    "            _ret[name][\"sell_price\"] = _AmtRank[i].sell_price;\n",
    "        }\n",
    "    }\n",
    "    var __ret = _ret.Where(x => Convert.ToDouble(x.Value[\"rank_value\"]) >= 5);\n",
    "    return __ret.Take(15).ToDictionary(x => x.Key, x => x.Value);\n",
    "}\n",
    "StocksTable(\"\").Keys"
   ]
  },
  {
   "cell_type": "code",
   "execution_count": null,
   "metadata": {
    "dotnet_interactive": {
     "language": "csharp"
    },
    "polyglot_notebook": {
     "kernelName": "csharp"
    }
   },
   "outputs": [],
   "source": [
    "public Dictionary<string, List<double>> ApexChartsOHLC(string target)\n",
    "{\n",
    "    /*\n",
    "    *選股範圍 電金非金電 vs 漲幅排行，IContract兩種切換\n",
    "    *轉成{\"2330\":{\"oepn\" = 111, \"high\" = 222, \"low\" = 333, \"close\" = 444}, \"2454\":{\"oepn\" = 111, \"high\" = 222, \"low\" = 333, \"close\" = 444}}\n",
    "    *linq過篩後再次轉回 Dictionary<string, Dictionary<string, object>>\n",
    "    */\n",
    "    List<string> TENN = new List<string> { \"2330\", \"2454\", \"2317\", \"2382\", \"2308\", \"2303\", \"3711\", \"6669\", \"3008\", \"3231\" };\n",
    "    List<string> TFNN = new List<string> { \"2881\", \"2882\", \"2891\", \"2886\", \"2884\", \"5880\", \"2892\", \"2885\", \"2880\", \"2890\" };\n",
    "    List<string> XINN = new List<string> { \"6505\", \"1303\", \"1301\", \"1216\", \"2002\", \"2207\", \"1326\", \"2603\", \"5871\", \"2912\" };\n",
    "    List<string> ScannersAmountRank = _api.Scanners(scannerType: ScannerType.ChangePercentRank, date: GetValidDate(null, null), count: 30)\n",
    "    .Select(x => (string)x.code).ToList();\n",
    "\n",
    "    var SectorComponentsIContract = new List<IContract>();\n",
    "    if (target == \"TENN\")\n",
    "    {\n",
    "        foreach (string code in TENN) SectorComponentsIContract.Add(_api.Contracts.Stocks[\"TSE\"][code]);\n",
    "    }\n",
    "    else if (target == \"TFNN\")\n",
    "    {\n",
    "        foreach (string code in TFNN) SectorComponentsIContract.Add(_api.Contracts.Stocks[\"TSE\"][code]);\n",
    "    }\n",
    "    else if (target == \"XINN\")\n",
    "    {\n",
    "        foreach (string code in XINN) SectorComponentsIContract.Add(_api.Contracts.Stocks[\"TSE\"][code]);\n",
    "    }\n",
    "    else\n",
    "    {\n",
    "        foreach (string code in ScannersAmountRank)\n",
    "        {\n",
    "            Exchange exchange = _api.Contracts.Stocks[\"TSE\"].ContainsKey(code) ? Exchange.TSE : Exchange.OTC;\n",
    "            SectorComponentsIContract.Add(_api.Contracts.Stocks[exchange.ToString()][code]);\n",
    "        };\n",
    "    }\n",
    "\n",
    "    Dictionary<string, List<double>> _ret = new Dictionary<string, List<double>>();\n",
    "    var _Snapshots = _api.Snapshots(SectorComponentsIContract);\n",
    "    for (int i = 0; i < _Snapshots.ToArray().Length; i++)\n",
    "    {\n",
    "        List<double> _tempSnapshots = new List<double>();\n",
    "        var _lastClose = _Snapshots[i].close - _Snapshots[i].change_price;\n",
    "        _tempSnapshots.Add(Math.Round(100 * (_Snapshots[i].open - _lastClose) / _lastClose, 2));\n",
    "        _tempSnapshots.Add(Math.Round(100 * (_Snapshots[i].high - _lastClose) / _lastClose, 2));\n",
    "        _tempSnapshots.Add(Math.Round(100 * (_Snapshots[i].low - _lastClose) / _lastClose, 2));\n",
    "        _tempSnapshots.Add(Math.Round(100 * (_Snapshots[i].close - _lastClose) / _lastClose, 2));\n",
    "        _tempSnapshots.Add(Math.Round(_Snapshots[i].total_amount / 100_000_000d, 0));\n",
    "        _ret.Add(_Snapshots[i].code, _tempSnapshots);\n",
    "    }\n",
    "    var test = _ret.Where(x => x.Value[4] >= 1).Take(15);\n",
    "    return test.ToDictionary(x => x.Key, x => x.Value);\n",
    "}\n",
    "ApexChartsOHLC(\"\")"
   ]
  },
  {
   "cell_type": "markdown",
   "metadata": {},
   "source": [
    "# Order"
   ]
  },
  {
   "cell_type": "code",
   "execution_count": null,
   "metadata": {
    "dotnet_interactive": {
     "language": "csharp"
    },
    "polyglot_notebook": {
     "kernelName": "csharp"
    }
   },
   "outputs": [],
   "source": [
    "public Sinopac.Shioaji.Trade MXFPlaceOrder(string _action, int _price, string _octype, bool _log)\n",
    "{\n",
    "    var _contract = _api.Contracts.Futures[\"MXF\"][\"MXF202403\"];\n",
    "    var _futOptOrder = new FutOptOrder()\n",
    "    {\n",
    "        action = _action == \"Buy\" ? \"Buy\" : \"Sell\",\n",
    "        price = _price,\n",
    "        quantity = 1,\n",
    "        price_type = \"LMT\",\n",
    "        order_type = \"ROD\",\n",
    "        octype = _octype == \"DayTrade\" ? \"DayTrade\" : \"Auto\" , //'Auto', 'New', 'Cover', 'DayTrade'\"\n",
    "    };\n",
    "    var _trade = _api.PlaceOrder(_contract, _futOptOrder);\n",
    "\n",
    "    if (_log)\n",
    "    {\n",
    "        var ret = new\n",
    "        {\n",
    "            // 分contract, order, status。要把原廠Log改成false不然很煩\n",
    "            status = _trade.status.status,\n",
    "            price = _trade.order.price,\n",
    "            deal_quantity = _trade.status.deal_quantity,\n",
    "            cancel_quantity = _trade.status.cancel_quantity,\n",
    "            action = _trade.order.action,\n",
    "            //order_lot = _trade.order.order_lot,\n",
    "            //quantity = _trade.order.quantity,\n",
    "            //seqno = _trade.order.seqno,  // 234925\n",
    "        };\n",
    "        Console.WriteLine(\"委託細節\" + string.Join(\", \", ret));\n",
    "    }\n",
    "    return _trade;\n",
    "}\n",
    "\n",
    "// Sinopac.Shioaji.Trade _trade = MXFPlaceOrder(\"Sell\", 19467, \"Auto\", true);\n",
    "// _api.CancelOrder(_trade)\n",
    "Sinopac.Shioaji.Trade _trade_ = MXFPlaceOrder(\"Buy\", 19400, \"Auto\", true);\n",
    "// _api.CancelOrder(_trade_)\n",
    "_api.UpdateOrder(_trade_)"
   ]
  },
  {
   "cell_type": "code",
   "execution_count": null,
   "metadata": {
    "dotnet_interactive": {
     "language": "csharp"
    },
    "polyglot_notebook": {
     "kernelName": "csharp"
    }
   },
   "outputs": [],
   "source": [
    "using System.Threading;\n",
    "\n",
    "public Sinopac.Shioaji.Trade MXFPlaceOrder(string _action, double _price, string _octype, bool _log)\n",
    "{\n",
    "    var _contract = _api.Contracts.Futures[\"MXF\"][\"MXF202403\"];\n",
    "    var _futOptOrder = new FutOptOrder()\n",
    "    {\n",
    "        action = _action == \"Buy\" ? \"Buy\" : \"Sell\",\n",
    "        price = _price,\n",
    "        quantity = 1,\n",
    "        price_type = \"LMT\",\n",
    "        order_type = \"ROD\",\n",
    "        octype = _octype == \"DayTrade\" ? \"DayTrade\" : \"Auto\" , //'Auto', 'New', 'Cover', 'DayTrade'\"\n",
    "    };\n",
    "    var _trade = _api.PlaceOrder(_contract, _futOptOrder);\n",
    "\n",
    "    if (_log)\n",
    "    {\n",
    "        var ret = new\n",
    "        {\n",
    "            // 分contract, order, status。要把原廠Log改成false不然很煩\n",
    "            status = _trade.status.status,\n",
    "            price = _trade.order.price,\n",
    "            deal_quantity = _trade.status.deal_quantity,\n",
    "            cancel_quantity = _trade.status.cancel_quantity,\n",
    "            action = _trade.order.action,\n",
    "            //order_lot = _trade.order.order_lot,\n",
    "            //quantity = _trade.order.quantity,\n",
    "            //seqno = _trade.order.seqno,  // 234925\n",
    "        };\n",
    "        Console.WriteLine(\"委託細節\" + string.Join(\", \", ret));\n",
    "    }\n",
    "    return _trade;\n",
    "}\n",
    "\n",
    "// 查成本價、建容器、創「int安全邊際」&「bool拉開就調成保本」\n",
    "List<FuturePosition> _src = _api.ListPositions(_api.FutureAccount);\n",
    "double EntryPrice = (double)_src.Where(x => x.code.Contains(\"MXF\")).Select(x => x.price).FirstOrDefault();\n",
    "\n",
    "List<double> SwingHighs = new List<double>();\n",
    "_api.Subscribe(_api.Contracts.Futures[\"TXF\"][\"TXFR1\"], QuoteType.tick, version: QuoteVersion.v1);\n",
    "\n",
    "int margin = 10;\n",
    "double new_EntryPrice = 0;\n",
    "\n",
    "while (DateTime.Now < GetCallbackEndTime())\n",
    "{\n",
    "    if((SwingHighs.Last() > EntryPrice + margin) && new_EntryPrice == 0) // 若拉開就保單\n",
    "    {\n",
    "        new_EntryPrice = EntryPrice + 2.0;\n",
    "    }\n",
    "    else if(SwingHighs.Last() < EntryPrice - margin)  // 口憐吃筍\n",
    "    {\n",
    "        Sinopac.Shioaji.Trade _trade_ = MXFPlaceOrder(\"Sell\", SwingHighs.Last(), \"Auto\", true);\n",
    "    }\n",
    "    else if (new_EntryPrice != 0)  // 拉開已調成保本，自高點拉回就移停 or 打保本\n",
    "    {\n",
    "        Sinopac.Shioaji.Trade _trade_ = (SwingHighs.Last() < (SwingHighs.Max() - margin)) ? \n",
    "        MXFPlaceOrder(\"Sell\", SwingHighs.Last(), \"Auto\", true) : null;\n",
    "    }\n",
    "    else  // 持續監聽\n",
    "    {\n",
    "        Console.WriteLine($\"夾在{EntryPrice-10}~{SwingHighs.Max()}死撐中\");\n",
    "    }\n",
    "    Thread.Sleep(30_000);\n",
    "}"
   ]
  },
  {
   "cell_type": "markdown",
   "metadata": {},
   "source": [
    "# 舊"
   ]
  },
  {
   "cell_type": "code",
   "execution_count": null,
   "metadata": {
    "dotnet_interactive": {
     "language": "csharp"
    },
    "polyglot_notebook": {
     "kernelName": "csharp"
    }
   },
   "outputs": [],
   "source": [
    "#region History profit and loss log. 歷史損益API雖設計支援日期區間，但現行日期區間多日會報錯entry_price不可為{null}\n",
    "public void Pnl(string bgn, string end)\n",
    "{\n",
    "    try\n",
    "    {\n",
    "        var src = _api.ListProfitLossSummary(bgn, end, _api.FutureAccount).profitloss_summary[0];\n",
    "        var _Pnl = new\n",
    "        {\n",
    "            code = (src.code.Substring(3, 5)) + (src.code[8] < 'L' ? \"Call\" : \"Put\"),\n",
    "            direction = src.direction,\n",
    "            entry_price = src.entry_price,\n",
    "            cover_price = src.cover_price,\n",
    "            netPnl = src.pnl - src.fee - src.tax\n",
    "        };\n",
    "        Console.WriteLine(string.Join(\"\\n\", _Pnl));\n",
    "    }\n",
    "    catch (Exception ex)\n",
    "    {\n",
    "        Console.WriteLine($\"Failed {ex.Message}\");\n",
    "    }\n",
    "}\n",
    "#endregion"
   ]
  },
  {
   "cell_type": "code",
   "execution_count": null,
   "metadata": {
    "dotnet_interactive": {
     "language": "csharp"
    },
    "polyglot_notebook": {
     "kernelName": "csharp"
    }
   },
   "outputs": [],
   "source": [
    "public IEnumerable<KeyValuePair<string, Dictionary<string, object>>> Snapshots_TW30(string target)\n",
    "{\n",
    "    /*\n",
    "    *選股範圍 TW30 vs 漲幅排行，IContract兩種切換\n",
    "    *轉成{\"2330\":{\"oepn\" = 111, \"high\" = 222, \"low\" = 333, \"close\" = 444}, \"2454\":{\"oepn\" = 111, \"high\" = 222, \"low\" = 333, \"close\" = 444}}\n",
    "    *linq過篩後再次轉回 Dictionary<string, Dictionary<string, object>>\n",
    "    */\n",
    "    List<string> Sids30 = new List<string> {\n",
    "        \"2330\", \"2454\", \"2317\", \"2382\", \"2412\", \"2881\", \"2308\", \"6505\", \"2882\", \"2303\",\n",
    "        \"3711\", \"2891\", \"2886\", \"1303\", \"1301\", \"1216\", \"2002\", \"2884\", \"6669\", \"5880\",\n",
    "        \"3045\", \"2892\", \"2207\", \"2885\", \"3008\", \"3231\", \"1326\", \"2357\", \"2603\", \"3034\",\n",
    "    };\n",
    "    List<string> Sids20 = _api.Scanners(scannerType: ScannerType.ChangePercentRank, date: GetValidDate(null, null), count: 30)\n",
    "    .Select(x => (string)x.code).ToList();\n",
    "    \n",
    "    var IContract50 = new List<IContract>();\n",
    "    if (target == \"\") foreach (string code in Sids30) IContract50.Add(_api.Contracts.Stocks[\"TSE\"][code]);\n",
    "    else\n",
    "    {\n",
    "        foreach (string code in Sids20)\n",
    "        {\n",
    "            Exchange exchange = _api.Contracts.Stocks[\"TSE\"].ContainsKey(code) ? Exchange.TSE : Exchange.OTC;\n",
    "            IContract50.Add(_api.Contracts.Stocks[exchange.ToString()][code]);\n",
    "        };\n",
    "    }\n",
    "\n",
    "    var _Snapshots = _api.Snapshots(IContract50);\n",
    "    var _ret = new Dictionary<string, Dictionary<string, object>>();\n",
    "    foreach (var item in _Snapshots)\n",
    "    {\n",
    "        var code = item.code;\n",
    "        if (!_ret.ContainsKey(code)) _ret[code] = new Dictionary<string, object>();\n",
    "        _ret[code][\"code\"] = item.code;\n",
    "        _ret[code][\"ts\"] = new DateTime(1970, 1, 1, 0, 0, 0, DateTimeKind.Utc).AddTicks(item.ts / 100).ToString(\"yyyy-MM-dd\");\n",
    "        _ret[code][\"open\"] = item.open;\n",
    "        _ret[code][\"high\"] = item.high;\n",
    "        _ret[code][\"low\"] = item.low;\n",
    "        _ret[code][\"close\"] = item.close;\n",
    "        _ret[code][\"tick_type\"] = item.tick_type;\n",
    "        _ret[code][\"change_price\"] = item.change_price;\n",
    "        _ret[code][\"change_rate\"] = item.change_rate;\n",
    "        _ret[code][\"change_type\"] = item.change_type;\n",
    "        _ret[code][\"average_price\"] = item.average_price;\n",
    "        _ret[code][\"volume\"] = item.volume;\n",
    "        _ret[code][\"total_amount\"] = item.total_amount;\n",
    "        _ret[code][\"buy_price\"] = item.buy_price;\n",
    "        _ret[code][\"sell_price\"] = item.sell_price;\n",
    "    }\n",
    "    IEnumerable<KeyValuePair<string, Dictionary<string, object>>> test = _ret\n",
    "    .Where(x => Convert.ToInt64(x.Value[\"total_amount\"]) >= 500_000_00 \n",
    "    & Convert.ToInt64(x.Value[\"close\"]) > 30);\n",
    "    return test;\n",
    "}\n",
    "\n",
    "Snapshots_TW30(\"\")"
   ]
  },
  {
   "cell_type": "code",
   "execution_count": null,
   "metadata": {
    "dotnet_interactive": {
     "language": "csharp"
    },
    "polyglot_notebook": {
     "kernelName": "csharp"
    }
   },
   "outputs": [],
   "source": [
    "            /*建容器 [key: string] : number[] 裝time stamp : 逐筆成交價\n",
    "             */\n",
    "            //Dictionary<string, double> retTicksLastCount = new Dictionary<string, double>();\n",
    "\n",
    "            //string end = \"\";\n",
    "            //if (DateTime.Now.TimeOfDay >= new TimeSpan(15, 0, 0) && DateTime.Now.TimeOfDay <= new TimeSpan(23, 59, 59))\n",
    "            //{ end = DateTime.Now.AddDays(+1).ToString(\"yyyy-MM-dd\"); }\n",
    "            //else { end = DateTime.Now.ToString(\"yyyy-MM-dd\"); }\n",
    "\n",
    "            //Ticks _TicksQuery = _api.Ticks(_api.Contracts.Futures[\"TXF\"][\"TXFR1\"], end, TicksQueryType.LastCount, last_cnt: LastCount);\n",
    "            //List<DateTimeOffset> generalTimes = new List<DateTimeOffset>();\n",
    "            //foreach (long timestamp in _TicksQuery.ts)\n",
    "            //{\n",
    "            //    DateTime dateTime = DateTimeOffset.FromUnixTimeMilliseconds(timestamp / 1000000).UtcDateTime;\n",
    "            //    generalTimes.Add(new DateTimeOffset(dateTime, TimeSpan.Zero));\n",
    "            //}\n",
    "            //List<string> tsFormat = new List<string>();\n",
    "            //foreach (var i in generalTimes) tsFormat.Add(i.ToString(\"HH:mm:ss\"));\n",
    "\n",
    "            //for (int i = 0; i < tsFormat.ToArray().Length; i++)\n",
    "            //{\n",
    "            //    if (retTicksLastCount.ContainsKey(tsFormat[i])) { retTicksLastCount[tsFormat[i]] = _TicksQuery.close[i]; }\n",
    "            //    else { retTicksLastCount.Add(tsFormat[i], _TicksQuery.close[i]); }\n",
    "            //}\n",
    "            //return retTicksLastCount.OrderByDescending(x => x.Key).ToDictionary(x => x.Key, x => x.Value);"
   ]
  },
  {
   "cell_type": "code",
   "execution_count": null,
   "metadata": {
    "dotnet_interactive": {
     "language": "csharp"
    },
    "polyglot_notebook": {
     "kernelName": "csharp"
    }
   },
   "outputs": [],
   "source": [
    "public Dictionary<string, List<object>> SectorsolumnsTable()\n",
    "{\n",
    "    // Scanners漲幅榜用linq篩出 $20且過五億的標的 把Code存 List<string>\n",
    "    List<string> ls_sids = new List<string>();\n",
    "    //foreach (var i in _api.Scanners(scannerType: ScannerType.ChangePercentRank, date: DateTime.Now.ToString(\"yyyy-MM-dd\"), count: 50)\n",
    "    foreach (var i in _api.Scanners(scannerType: ScannerType.ChangePercentRank, date: \"2024-02-20\", count: 50)\n",
    "    .Where(x => x.close > 20 && x.total_amount > 500_000_000)) { ls_sids.Add(i.code); }\n",
    "\n",
    "\n",
    "    // 從openapi抓 List<string> 股票們存成 Dictionary<string, List<object>> ☛ { 股號: [股名, 月均價]}\n",
    "    var client = new HttpClient();\n",
    "    var response = client.GetAsync(\"https://openapi.twse.com.tw/v1/\" + \"exchangeReport/STOCK_DAY_AVG_ALL\").Result; // 上市個股日收盤價及月平均價\n",
    "    var json = response.Content.ReadAsStringAsync().Result;\n",
    "    List<dynamic> src = JsonConvert.DeserializeObject<List<dynamic>>(json);\n",
    "    Dictionary<string, List<object>> retDict = new Dictionary<string, List<object>>();\n",
    "    foreach (var i in src.Where(x => ls_sids.Contains(x.Code.ToString())))\n",
    "    {\n",
    "        List<object> _retDict = new List<object>();\n",
    "        _retDict.Add(i.Name.ToString());\n",
    "        _retDict.Add((Double)i.MonthlyAveragePrice);\n",
    "        retDict.Add(i.Code.ToString(), _retDict);\n",
    "    }\n",
    "\n",
    "\n",
    "    // 同格式的Dictionary<string, List<object>> 另用Snapshots對同群標的做 { 股號: [即時價, 漲額, 成交值億]}\n",
    "    var obj_IContract = new List<IContract>();\n",
    "    foreach (var i in retDict.Keys)\n",
    "        try { obj_IContract.Add(_api.Contracts.Stocks[\"TSE\"][i]); }\n",
    "        catch (Exception ex)\n",
    "        {\n",
    "            Console.WriteLine($\"宣告{ex}但沒用到會報alert\");\n",
    "            obj_IContract.Add(_api.Contracts.Stocks[\"OTC\"][i]);\n",
    "        }\n",
    "\n",
    "    Dictionary<string, List<object>> retDict1 = new Dictionary<string, List<object>>();\n",
    "    foreach (var i in _api.Snapshots(obj_IContract))\n",
    "    {\n",
    "        List<object> _retDict1 = new List<object>();\n",
    "        _retDict1.Add(i.close);\n",
    "        _retDict1.Add(i.change_rate);\n",
    "        _retDict1.Add(Math.Round(i.total_amount / 100_000_000d, 2));\n",
    "        retDict1.Add(i.code, _retDict1);\n",
    "    }\n",
    "\n",
    "\n",
    "    // 把兩個 Dictionary<string, List<object>>併起來，再補上乖離 ☛ { 股號:         [股名, 月均價, 即時價, 漲幅, 成交值億, 距月均價多遠]}\n",
    "    // 這個Concat的dict留到react定義 interface                  ☛  [key: string]: [string, number, number, number, number, number];\n",
    "    var ret = retDict.Concat(retDict1).GroupBy(kvp => kvp.Key).ToDictionary(g => g.Key, g => g.SelectMany(kvp => kvp.Value).ToList());\n",
    "    foreach (var i in ret.Keys)\n",
    "    {\n",
    "        ret[i].Add(Math.Round(\n",
    "            ((double)ret[i][2] / (double)ret[i][1]) - 1\n",
    "            , 2));\n",
    "    }\n",
    "\n",
    "    // 篩漲超過月線x%的\n",
    "    return ret.Where(x => (Double)x.Value[5] >= 0.00).ToDictionary(x => x.Key, x => x.Value);\n",
    "}\n",
    "\n"
   ]
  },
  {
   "cell_type": "code",
   "execution_count": null,
   "metadata": {
    "dotnet_interactive": {
     "language": "csharp"
    },
    "polyglot_notebook": {
     "kernelName": "csharp"
    }
   },
   "outputs": [],
   "source": [
    "public IEnumerable<KeyValuePair<string, Dictionary<string, object>>> ScannersChangePercentRank(int TopN)\n",
    "// public dynamic ScannersChangePercentRank(int TopN)\n",
    "{\n",
    "    /* 建容器 [key: string] : number[] 裝\"股名\":[開盤漲幅、最高漲幅、最低漲幅、當前漲幅、累計成交值]*/\n",
    "\n",
    "    var _ScannersAmountRank = _api.Scanners(scannerType: ScannerType.ChangePercentRank, date: GetValidDate(), count: TopN)\n",
    "    .Select(x => (string)x.code).ToList();\n",
    "\n",
    "    var SectorComponentsIContract = new List<IContract>();\n",
    "    foreach (string code in _ScannersAmountRank)\n",
    "    {\n",
    "        Exchange exchange = _api.Contracts.Stocks[\"TSE\"].ContainsKey(code) ? Exchange.TSE : Exchange.OTC;\n",
    "        SectorComponentsIContract.Add(_api.Contracts.Stocks[exchange.ToString()][code]);\n",
    "    };\n",
    "\n",
    "    var _Snapshots = _api.Snapshots(SectorComponentsIContract);\n",
    "\n",
    "    var _ret = new Dictionary<string, Dictionary<string, object>>();\n",
    "    // for (int i = 0; i < _Snapshots.ToArray().Length; i++)\n",
    "    foreach (var item in _Snapshots)\n",
    "    {\n",
    "        var code = item.code;\n",
    "        if (!_ret.ContainsKey(code)) _ret[code] = new Dictionary<string, object>();\n",
    "        _ret[code][\"code\"] = item.code;\n",
    "        _ret[code][\"ts\"] = new DateTime(1970, 1, 1, 0, 0, 0, DateTimeKind.Utc).AddTicks(item.ts / 100).ToString(\"yyyy-MM-dd\");\n",
    "        _ret[code][\"open\"] = item.open;\n",
    "        _ret[code][\"high\"] = item.high;\n",
    "        _ret[code][\"low\"] = item.low;\n",
    "        _ret[code][\"close\"] = item.close;\n",
    "        _ret[code][\"tick_type\"] = item.tick_type;\n",
    "        _ret[code][\"change_price\"] = item.change_price;\n",
    "        _ret[code][\"change_rate\"] = item.change_rate;\n",
    "        _ret[code][\"change_type\"] = item.change_type;\n",
    "        _ret[code][\"average_price\"] = item.average_price;\n",
    "        _ret[code][\"volume\"] = item.volume;\n",
    "        _ret[code][\"total_amount\"] = item.total_amount;\n",
    "        _ret[code][\"buy_price\"] = item.buy_price;\n",
    "        _ret[code][\"sell_price\"] = item.sell_price;\n",
    "    }\n",
    "    IEnumerable<KeyValuePair<string, Dictionary<string, object>>> test = _ret.Where(x => Convert.ToInt64(x.Value[\"total_amount\"]) >= 500_000_00 & Convert.ToInt64(x.Value[\"close\"]) > 30);\n",
    "    return test;\n",
    "}\n",
    "\n",
    "ScannersChangePercentRank(10)\n",
    "\n",
    "foreach (var entry in ScannersChangePercentRank(10))\n",
    "{\n",
    "    Console.WriteLine($\"'{entry.Key}':[\");\n",
    "    foreach (var value in entry.Value)\n",
    "    {\n",
    "        Console.WriteLine($\"{value},\");\n",
    "    }\n",
    "    Console.WriteLine(\"]\");\n",
    "}"
   ]
  },
  {
   "cell_type": "code",
   "execution_count": null,
   "metadata": {
    "dotnet_interactive": {
     "language": "csharp"
    },
    "polyglot_notebook": {
     "kernelName": "csharp"
    }
   },
   "outputs": [],
   "source": [
    "// public Dictionary<string, double> TicksLastCount(int LastCount)\n",
    "// {\n",
    "//     /*建容器 [key: string] : number[] 裝time stamp : 逐筆成交價\n",
    "//         */\n",
    "//     Dictionary<string, double> retTicksLastCount = new Dictionary<string, double>();\n",
    "\n",
    "//     string end = \"\";\n",
    "//     if (DateTime.Now.TimeOfDay >= new TimeSpan(15, 0, 0) && DateTime.Now.TimeOfDay <= new TimeSpan(23, 59, 59))\n",
    "//     { end = DateTime.Now.AddDays(+1).ToString(\"yyyy-MM-dd\"); }\n",
    "//     else { end = DateTime.Now.ToString(\"yyyy-MM-dd\"); }\n",
    "//     Ticks _TicksQuery = _api.Ticks(_api.Contracts.Futures[\"TXF\"][\"TXFR1\"], end, TicksQueryType.LastCount, last_cnt: LastCount);\n",
    "//     List<DateTimeOffset> generalTimes = new List<DateTimeOffset>();\n",
    "//     foreach (long timestamp in _TicksQuery.ts)\n",
    "//     {\n",
    "//         DateTime dateTime = DateTimeOffset.FromUnixTimeMilliseconds(timestamp / 1000000).UtcDateTime;\n",
    "//         generalTimes.Add(new DateTimeOffset(dateTime, TimeSpan.Zero));\n",
    "//     }\n",
    "//     List<string> tsFormat = new List<string>();\n",
    "//     foreach (var i in generalTimes) tsFormat.Add(i.ToString(\"HH:mm:ss\"));\n",
    "\n",
    "//     for (int i = 0; i < tsFormat.ToArray().Length; i++)\n",
    "//     {\n",
    "//         if (retTicksLastCount.ContainsKey(tsFormat[i])) { retTicksLastCount[tsFormat[i]] = _TicksQuery.close[i]; }\n",
    "//         else { retTicksLastCount.Add(tsFormat[i], _TicksQuery.close[i]); }\n",
    "//     }\n",
    "//     return retTicksLastCount.OrderByDescending(x => x.Key).ToDictionary(x => x.Key, x => x.Value);\n",
    "// }\n",
    "// TicksLastCount(10)"
   ]
  }
 ],
 "metadata": {
  "kernelspec": {
   "display_name": ".NET (C#)",
   "language": "C#",
   "name": ".net-csharp"
  },
  "language_info": {
   "name": "polyglot-notebook"
  },
  "polyglot_notebook": {
   "kernelInfo": {
    "defaultKernelName": "csharp",
    "items": [
     {
      "aliases": [],
      "languageName": "csharp",
      "name": "csharp"
     }
    ]
   }
  }
 },
 "nbformat": 4,
 "nbformat_minor": 2
}
